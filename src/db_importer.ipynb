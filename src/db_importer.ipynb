{
 "cells": [
  {
   "cell_type": "code",
   "execution_count": 1,
   "metadata": {},
   "outputs": [],
   "source": [
    "from app.connector import connect\n",
    "from app.connector import connect_users"
   ]
  },
  {
   "cell_type": "code",
   "execution_count": 15,
   "metadata": {},
   "outputs": [],
   "source": [
    "# read posts\n",
    "f = open(\"../res/posts.csv\", \"r\")\n",
    "posts = []\n",
    "for x in f:\n",
    "  posts.append(x.split(\",\"))\n",
    "del posts[0]\n",
    "# read posts\n",
    "f = open(\"../res/scores.csv\", \"r\")\n",
    "scores = []\n",
    "for x in f:\n",
    "  scores.append(x.split(\",\"))\n",
    "del scores[0]"
   ]
  },
  {
   "cell_type": "code",
   "execution_count": 17,
   "metadata": {},
   "outputs": [
    {
     "name": "stdout",
     "output_type": "stream",
     "text": [
      "Connecting to the PostgreSQL database...\n",
      "PostgreSQL database version:\n",
      "('PostgreSQL 12.10, compiled by Visual C++ build 1914, 64-bit',)\n"
     ]
    }
   ],
   "source": [
    "# insert all posts with user_id = dummy existing user\n",
    "conn = connect()\n",
    "cur = conn.cursor()\n",
    "\n",
    "for x, y in zip(posts,scores):\n",
    "    cur.execute(\"INSERT INTO posts(user_id, content, created_on) values(%s, %s, %s)\", [66,x[1],x[0]])\n",
    "    cur.execute(\"insert into metrics values ((SELECT post_id FROM posts ORDER BY post_id DESC LIMIT 1) , %s, %s, %s, %s, %s, %s, %s, %s, %s)\", y[1:])\n",
    "\n",
    "conn.commit()\n",
    "cur.close()"
   ]
  },
  {
   "cell_type": "code",
   "execution_count": 18,
   "metadata": {},
   "outputs": [
    {
     "name": "stdout",
     "output_type": "stream",
     "text": [
      "Connecting to the PostgreSQL database...\n",
      "PostgreSQL database version:\n",
      "('PostgreSQL 12.10, compiled by Visual C++ build 1914, 64-bit',)\n",
      "users\n",
      "[66, 88, 86, 68, 78]\n",
      "posts\n",
      "[9667, 9668, 9669, 9670, 9671]\n"
     ]
    }
   ],
   "source": [
    "# Get all existing user_ids and post_ids\n",
    "conn = connect()\n",
    "cur = conn.cursor()\n",
    "\n",
    "cur.execute(\"select user_id from users;\")\n",
    "data = cur.fetchall()\n",
    "user_ids = []\n",
    "for x in data:\n",
    "    user_ids.append(x[0])\n",
    "print(\"users\")\n",
    "print(user_ids[:5])\n",
    "\n",
    "cur.execute(\"select post_id from posts;\");\n",
    "data = cur.fetchall()\n",
    "post_ids = []\n",
    "for x in data:\n",
    "    post_ids.append(x[0])\n",
    "print(\"posts\")\n",
    "print(post_ids[:5])\n",
    "\n",
    "cur.close()"
   ]
  },
  {
   "cell_type": "code",
   "execution_count": 19,
   "metadata": {},
   "outputs": [
    {
     "name": "stdout",
     "output_type": "stream",
     "text": [
      "Connecting to the PostgreSQL database...\n",
      "PostgreSQL database version:\n",
      "('PostgreSQL 12.10, compiled by Visual C++ build 1914, 64-bit',)\n"
     ]
    }
   ],
   "source": [
    "# Assign random user_id for every post\n",
    "import random\n",
    "conn = connect()\n",
    "cur = conn.cursor()\n",
    "\n",
    "for post_id in post_ids:\n",
    "    user_id = random.choice(user_ids[:100])\n",
    "    cur.execute(\"update posts set user_id = %s where post_id = %s;\", [user_id, post_id])\n",
    "\n",
    "conn.commit()\n",
    "cur.close()"
   ]
  },
  {
   "cell_type": "code",
   "execution_count": 20,
   "metadata": {},
   "outputs": [
    {
     "name": "stdout",
     "output_type": "stream",
     "text": [
      "Connecting to the PostgreSQL database...\n",
      "PostgreSQL database version:\n",
      "('PostgreSQL 12.10, compiled by Visual C++ build 1914, 64-bit',)\n"
     ]
    }
   ],
   "source": [
    "# populate reports table\n",
    "conn = connect()\n",
    "cur = conn.cursor()\n",
    "reasons = [\"PROFANITY\", \"RACE\", \"RELIGION\", \"SEX\", \"OTHER\", \"NONE\"]\n",
    "\n",
    "# Create a total of 50 000 reports\n",
    "for x in range(50000):\n",
    "    post_id = random.choice(post_ids[:1500])\n",
    "    cur.execute(\"select user_id from posts where post_id = %s;\", [post_id])\n",
    "    poster_id = cur.fetchone()[0]\n",
    "    reason = random.choice(reasons)\n",
    "    cur.execute(\"insert into reports (poster_id, post_id, reason) values (%s, %s, %s);\",\n",
    "     [poster_id, post_id, reason])\n",
    "\n",
    "conn.commit()\n",
    "cur.close()"
   ]
  },
  {
   "cell_type": "markdown",
   "metadata": {},
   "source": [
    "<h1> Update users profile pictures </h1>\n",
    "Algorithm:\n",
    "\n",
    "1. Get all user_ids from users.users\n",
    "\n",
    "2. Assign a picture for every user_id\n",
    "\n",
    "3. Store assignment\n",
    "\n",
    "4. Use the same assignments to update posts.users"
   ]
  },
  {
   "cell_type": "code",
   "execution_count": 26,
   "metadata": {},
   "outputs": [],
   "source": [
    "# Get list of picture links\n",
    "f = open(\"../res/photos.csv\", \"r\")\n",
    "pictures = []\n",
    "for x in f:\n",
    "  pictures.append(x)\n",
    "del pictures[0]"
   ]
  },
  {
   "cell_type": "code",
   "execution_count": 27,
   "metadata": {},
   "outputs": [
    {
     "name": "stdout",
     "output_type": "stream",
     "text": [
      "Connecting to the PostgreSQL database...\n",
      "PostgreSQL database version:\n",
      "('PostgreSQL 12.10, compiled by Visual C++ build 1914, 64-bit',)\n"
     ]
    }
   ],
   "source": [
    "# Get list of users from users.users\n",
    "conn = connect_users()\n",
    "cur = conn.cursor()\n",
    "\n",
    "cur.execute(\"select user_id from users;\")\n",
    "data = cur.fetchall()\n",
    "user_ids = []\n",
    "for x in data:\n",
    "    user_ids.append(x[0])\n",
    "\n",
    "cur.close()"
   ]
  },
  {
   "cell_type": "code",
   "execution_count": 28,
   "metadata": {},
   "outputs": [],
   "source": [
    "# Assign photo for every user_id\n",
    "pictures_dict = {}\n",
    "for x,y in zip(user_ids, pictures):\n",
    "    pictures_dict[x] = y"
   ]
  },
  {
   "cell_type": "code",
   "execution_count": 31,
   "metadata": {},
   "outputs": [
    {
     "name": "stdout",
     "output_type": "stream",
     "text": [
      "Connecting to the PostgreSQL database...\n",
      "PostgreSQL database version:\n",
      "('PostgreSQL 12.10, compiled by Visual C++ build 1914, 64-bit',)\n"
     ]
    }
   ],
   "source": [
    "# Update users.users database\n",
    "conn = connect_users()\n",
    "cur = conn.cursor()\n",
    "\n",
    "for x in pictures_dict:\n",
    "    cur.execute(\"update users set google_photo = %s where user_id = %s\", [pictures_dict[x], x])\n",
    "\n",
    "conn.commit()\n",
    "cur.close()"
   ]
  },
  {
   "cell_type": "code",
   "execution_count": 33,
   "metadata": {},
   "outputs": [
    {
     "name": "stdout",
     "output_type": "stream",
     "text": [
      "Connecting to the PostgreSQL database...\n",
      "PostgreSQL database version:\n",
      "('PostgreSQL 12.10, compiled by Visual C++ build 1914, 64-bit',)\n"
     ]
    }
   ],
   "source": [
    "# Update posts.users database\n",
    "conn = connect()\n",
    "cur = conn.cursor()\n",
    "\n",
    "for x in pictures_dict:\n",
    "    cur.execute(\"update users set google_photo = %s where user_id = %s\", [pictures_dict[x], x])\n",
    "\n",
    "conn.commit()\n",
    "cur.close()"
   ]
  },
  {
   "cell_type": "code",
   "execution_count": 5,
   "metadata": {},
   "outputs": [
    {
     "name": "stdout",
     "output_type": "stream",
     "text": [
      "Connecting to the PostgreSQL database...\n",
      "PostgreSQL database version:\n",
      "('PostgreSQL 12.10, compiled by Visual C++ build 1914, 64-bit',)\n",
      "(1232, 'Shayna_Bednar45', 'Hortense16@hotmail.com', 'Shayna_Bednar45, Hortense16@hotmail.com', 'https://cdn.fakercloud.com/avatars/arthurholcombe1_128.jpg', datetime.datetime(2022, 5, 1, 11, 44, 5, 627756), True, False)\n"
     ]
    }
   ],
   "source": [
    "# Update user profile pictures\n",
    "conn = connect_users()\n",
    "cur = conn.cursor()\n",
    "\n",
    "cur.execute(\"select * from users;\")\n",
    "print(cur.fetchone())\n",
    "\n",
    "conn.commit()\n",
    "cur.close()"
   ]
  },
  {
   "cell_type": "markdown",
   "metadata": {},
   "source": [
    "<h1> Testing Area </h1>"
   ]
  },
  {
   "cell_type": "code",
   "execution_count": 14,
   "metadata": {},
   "outputs": [
    {
     "data": {
      "text/plain": [
       "\"SELECT user_id, username from users where username like '%%' and (select avg(hate_score) from metrics inner join posts using(post_id) where posts.user_id = users.user_id) between 0.0 and 0.5 and (select avg(normal_score) from metrics inner join posts using(post_id) where posts.user_id = users.user_id) between 0.0 and 1.0;\""
      ]
     },
     "execution_count": 14,
     "metadata": {},
     "output_type": "execute_result"
    }
   ],
   "source": [
    "categ_dict = {\n",
    "    \"Hate\": \"hate_score\",\n",
    "    \"Normal\": \"normal_score\",\n",
    "    \"Offensive\": \"offensive_score\",\n",
    "    \"Profanity\": \"profanity_score\",\n",
    "    \"Race\": \"race_score\",\n",
    "    \"Religion\": \"religion_score\",\n",
    "    \"Sex\": \"sex_score\",\n",
    "    \"Other\": \"other_score\",\n",
    "    \"None\": \"none_score\",\n",
    "}\n",
    "\n",
    "filters = [{\"category\":\"Hate\", \"min\":0, \"max\":50},{\"category\":\"Normal\", \"min\":0, \"max\":100}]\n",
    "\n",
    "def build_query(filters, name):\n",
    "    query = \"SELECT user_id, username from users where username like '%\" + name + \"%'\"\n",
    "    # Add filters\n",
    "    if len(filters) == 0:\n",
    "        return query + \";\"\n",
    "    else:\n",
    "        for x in filters:\n",
    "            categ = categ_dict[x[\"category\"]]\n",
    "            floor = str(x[\"min\"]/100)\n",
    "            ceil = str(x[\"max\"]/100)\n",
    "            query += \" and (select avg(\"+ categ +\") from metrics inner join posts using(post_id) where \" \\\n",
    "                \"posts.user_id = users.user_id) between \" + floor + \" and \" + ceil\n",
    "    return query + \";\"\n",
    "    \n",
    "build_query(filters, \"\")"
   ]
  },
  {
   "cell_type": "markdown",
   "metadata": {},
   "source": [
    "SELECT user_id, username from users where username like '%%' \n",
    "\n",
    "and (select avg(hate_score) from metrics inner join posts using(post_id) where posts.user_id = users.user_id ) between .29 and .30;"
   ]
  }
 ],
 "metadata": {
  "interpreter": {
   "hash": "369f2c481f4da34e4445cda3fffd2e751bd1c4d706f27375911949ba6bb62e1c"
  },
  "kernelspec": {
   "display_name": "Python 3.10.0 64-bit",
   "language": "python",
   "name": "python3"
  },
  "language_info": {
   "codemirror_mode": {
    "name": "ipython",
    "version": 3
   },
   "file_extension": ".py",
   "mimetype": "text/x-python",
   "name": "python",
   "nbconvert_exporter": "python",
   "pygments_lexer": "ipython3",
   "version": "3.10.0"
  },
  "orig_nbformat": 4
 },
 "nbformat": 4,
 "nbformat_minor": 2
}
